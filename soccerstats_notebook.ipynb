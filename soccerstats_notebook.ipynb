{
 "cells": [
  {
   "cell_type": "code",
   "execution_count": 1,
   "metadata": {},
   "outputs": [],
   "source": [
    "from sklearn.decomposition import PCA\n",
    "from sklearn.decomposition import KernelPCA\n",
    "from sklearn.model_selection import train_test_split\n",
    "from sklearn.model_selection import GridSearchCV\n",
    "from sklearn.svm import SVC\n",
    "from sklearn.ensemble import RandomForestClassifier\n",
    "from sklearn.model_selection import cross_val_predict\n",
    "from sklearn.model_selection import cross_val_score\n",
    "from sklearn.metrics import precision_score\n",
    "from sklearn.metrics import accuracy_score\n",
    "from sklearn.preprocessing import StandardScaler\n",
    "from sklearn.metrics import confusion_matrix\n",
    "from sklearn.pipeline import Pipeline\n",
    "import numpy as np"
   ]
  },
  {
   "cell_type": "code",
   "execution_count": 2,
   "metadata": {},
   "outputs": [],
   "source": [
    "exec(open(\"soccerstats.py\").read())"
   ]
  },
  {
   "cell_type": "code",
   "execution_count": 26,
   "metadata": {
    "collapsed": true
   },
   "outputs": [
    {
     "data": {
      "text/html": [
       "<div>\n",
       "<style scoped>\n",
       "    .dataframe tbody tr th:only-of-type {\n",
       "        vertical-align: middle;\n",
       "    }\n",
       "\n",
       "    .dataframe tbody tr th {\n",
       "        vertical-align: top;\n",
       "    }\n",
       "\n",
       "    .dataframe thead th {\n",
       "        text-align: right;\n",
       "    }\n",
       "</style>\n",
       "<table border=\"1\" class=\"dataframe\">\n",
       "  <thead>\n",
       "    <tr style=\"text-align: right;\">\n",
       "      <th></th>\n",
       "      <th>0</th>\n",
       "      <th>1</th>\n",
       "      <th>2</th>\n",
       "      <th>3</th>\n",
       "      <th>4</th>\n",
       "      <th>5</th>\n",
       "      <th>6</th>\n",
       "      <th>7</th>\n",
       "      <th>8</th>\n",
       "      <th>9</th>\n",
       "      <th>...</th>\n",
       "      <th>64</th>\n",
       "      <th>65</th>\n",
       "      <th>66</th>\n",
       "      <th>67</th>\n",
       "      <th>68</th>\n",
       "      <th>69</th>\n",
       "      <th>70</th>\n",
       "      <th>71</th>\n",
       "      <th>72</th>\n",
       "      <th>73</th>\n",
       "    </tr>\n",
       "  </thead>\n",
       "  <tbody>\n",
       "    <tr>\n",
       "      <th>0</th>\n",
       "      <td>Hull City</td>\n",
       "      <td>Newcastle Utd</td>\n",
       "      <td>0.0</td>\n",
       "      <td>3.0</td>\n",
       "      <td>0.0</td>\n",
       "      <td>1.0</td>\n",
       "      <td>0.490566</td>\n",
       "      <td>0.761006</td>\n",
       "      <td>0.371069</td>\n",
       "      <td>0.220126</td>\n",
       "      <td>...</td>\n",
       "      <td>0.0000</td>\n",
       "      <td>0.333333</td>\n",
       "      <td>0.733333</td>\n",
       "      <td>1.866667</td>\n",
       "      <td>0.500</td>\n",
       "      <td>0.500</td>\n",
       "      <td>0.375000</td>\n",
       "      <td>0.571429</td>\n",
       "      <td>0.250000</td>\n",
       "      <td>0.142857</td>\n",
       "    </tr>\n",
       "    <tr>\n",
       "      <th>1</th>\n",
       "      <td>Everton</td>\n",
       "      <td>West Bromwich</td>\n",
       "      <td>0.0</td>\n",
       "      <td>0.0</td>\n",
       "      <td>0.0</td>\n",
       "      <td>0.0</td>\n",
       "      <td>0.487500</td>\n",
       "      <td>0.756250</td>\n",
       "      <td>0.368750</td>\n",
       "      <td>0.218750</td>\n",
       "      <td>...</td>\n",
       "      <td>0.0625</td>\n",
       "      <td>0.312500</td>\n",
       "      <td>1.125000</td>\n",
       "      <td>1.375000</td>\n",
       "      <td>0.875</td>\n",
       "      <td>0.875</td>\n",
       "      <td>0.500000</td>\n",
       "      <td>0.500000</td>\n",
       "      <td>0.250000</td>\n",
       "      <td>0.250000</td>\n",
       "    </tr>\n",
       "    <tr>\n",
       "      <th>2</th>\n",
       "      <td>Manchester City</td>\n",
       "      <td>Arsenal</td>\n",
       "      <td>0.0</td>\n",
       "      <td>2.0</td>\n",
       "      <td>0.0</td>\n",
       "      <td>1.0</td>\n",
       "      <td>0.484472</td>\n",
       "      <td>0.751553</td>\n",
       "      <td>0.372671</td>\n",
       "      <td>0.217391</td>\n",
       "      <td>...</td>\n",
       "      <td>0.3125</td>\n",
       "      <td>0.000000</td>\n",
       "      <td>2.000000</td>\n",
       "      <td>0.687500</td>\n",
       "      <td>2.375</td>\n",
       "      <td>2.375</td>\n",
       "      <td>0.555556</td>\n",
       "      <td>0.714286</td>\n",
       "      <td>0.333333</td>\n",
       "      <td>0.142857</td>\n",
       "    </tr>\n",
       "    <tr>\n",
       "      <th>3</th>\n",
       "      <td>West Ham Utd</td>\n",
       "      <td>Hull City</td>\n",
       "      <td>3.0</td>\n",
       "      <td>0.0</td>\n",
       "      <td>0.0</td>\n",
       "      <td>0.0</td>\n",
       "      <td>0.481481</td>\n",
       "      <td>0.746914</td>\n",
       "      <td>0.370370</td>\n",
       "      <td>0.216049</td>\n",
       "      <td>...</td>\n",
       "      <td>0.0000</td>\n",
       "      <td>0.250000</td>\n",
       "      <td>0.812500</td>\n",
       "      <td>1.312500</td>\n",
       "      <td>1.000</td>\n",
       "      <td>1.000</td>\n",
       "      <td>0.444444</td>\n",
       "      <td>0.142857</td>\n",
       "      <td>0.222222</td>\n",
       "      <td>0.142857</td>\n",
       "    </tr>\n",
       "    <tr>\n",
       "      <th>4</th>\n",
       "      <td>Newcastle Utd</td>\n",
       "      <td>Southampton</td>\n",
       "      <td>1.0</td>\n",
       "      <td>2.0</td>\n",
       "      <td>1.0</td>\n",
       "      <td>1.0</td>\n",
       "      <td>0.484663</td>\n",
       "      <td>0.748466</td>\n",
       "      <td>0.374233</td>\n",
       "      <td>0.214724</td>\n",
       "      <td>...</td>\n",
       "      <td>0.0625</td>\n",
       "      <td>0.000000</td>\n",
       "      <td>1.062500</td>\n",
       "      <td>1.062500</td>\n",
       "      <td>0.625</td>\n",
       "      <td>0.625</td>\n",
       "      <td>0.250000</td>\n",
       "      <td>0.250000</td>\n",
       "      <td>0.250000</td>\n",
       "      <td>0.000000</td>\n",
       "    </tr>\n",
       "  </tbody>\n",
       "</table>\n",
       "<p>5 rows × 74 columns</p>\n",
       "</div>"
      ],
      "text/plain": [
       "                0              1    2    3    4    5         6         7   \\\n",
       "0        Hull City  Newcastle Utd  0.0  3.0  0.0  1.0  0.490566  0.761006   \n",
       "1          Everton  West Bromwich  0.0  0.0  0.0  0.0  0.487500  0.756250   \n",
       "2  Manchester City        Arsenal  0.0  2.0  0.0  1.0  0.484472  0.751553   \n",
       "3     West Ham Utd      Hull City  3.0  0.0  0.0  0.0  0.481481  0.746914   \n",
       "4    Newcastle Utd    Southampton  1.0  2.0  1.0  1.0  0.484663  0.748466   \n",
       "\n",
       "         8         9   ...      64        65        66        67     68  \\\n",
       "0  0.371069  0.220126  ...  0.0000  0.333333  0.733333  1.866667  0.500   \n",
       "1  0.368750  0.218750  ...  0.0625  0.312500  1.125000  1.375000  0.875   \n",
       "2  0.372671  0.217391  ...  0.3125  0.000000  2.000000  0.687500  2.375   \n",
       "3  0.370370  0.216049  ...  0.0000  0.250000  0.812500  1.312500  1.000   \n",
       "4  0.374233  0.214724  ...  0.0625  0.000000  1.062500  1.062500  0.625   \n",
       "\n",
       "      69        70        71        72        73  \n",
       "0  0.500  0.375000  0.571429  0.250000  0.142857  \n",
       "1  0.875  0.500000  0.500000  0.250000  0.250000  \n",
       "2  2.375  0.555556  0.714286  0.333333  0.142857  \n",
       "3  1.000  0.444444  0.142857  0.222222  0.142857  \n",
       "4  0.625  0.250000  0.250000  0.250000  0.000000  \n",
       "\n",
       "[5 rows x 74 columns]"
      ]
     },
     "execution_count": 26,
     "metadata": {},
     "output_type": "execute_result"
    }
   ],
   "source": [
    "df2.head()"
   ]
  },
  {
   "cell_type": "code",
   "execution_count": 3,
   "metadata": {},
   "outputs": [
    {
     "data": {
      "text/plain": [
       "(array([0, 1]), array([530, 575]))"
      ]
     },
     "execution_count": 3,
     "metadata": {},
     "output_type": "execute_result"
    }
   ],
   "source": [
    "dataframe = df2.iloc[:,[i for i in range(6,74)]]\n",
    "target = np.where(df2.iloc[:,2] + df2.iloc[:,3] > 2.5,1,0)\n",
    "dataframe.columns = [i for i in range(68)]\n",
    "np.unique(target,return_counts=True)"
   ]
  },
  {
   "cell_type": "code",
   "execution_count": 65,
   "metadata": {
    "collapsed": true
   },
   "outputs": [
    {
     "data": {
      "text/plain": [
       "array([0.02167563, 0.01411547, 0.01348894, 0.01575091, 0.01531586,\n",
       "       0.01564496, 0.01404942, 0.01586582, 0.0144284 , 0.0147392 ,\n",
       "       0.01429717, 0.01689902, 0.01808845, 0.01782952, 0.01396864,\n",
       "       0.0131115 , 0.01473292, 0.01508025, 0.01503762, 0.01478539,\n",
       "       0.01385686, 0.01430722, 0.01417525, 0.01604075, 0.01372139,\n",
       "       0.01537414, 0.01590317, 0.01660601, 0.01434964, 0.01587798,\n",
       "       0.01778162, 0.01519035, 0.01604863, 0.00914619, 0.00920653,\n",
       "       0.01223599, 0.01224404, 0.01186268, 0.0107545 , 0.01279197,\n",
       "       0.01639224, 0.01502085, 0.01425279, 0.01325745, 0.01805655,\n",
       "       0.01688338, 0.01393571, 0.01451929, 0.0125901 , 0.01230534,\n",
       "       0.01305143, 0.01306449, 0.01832472, 0.01592708, 0.01626163,\n",
       "       0.01662961, 0.01365868, 0.01981051, 0.01435404, 0.0176882 ,\n",
       "       0.01445729, 0.02215864, 0.01076953, 0.01000354, 0.01424684,\n",
       "       0.0128971 , 0.01136627, 0.0117367 ])"
      ]
     },
     "execution_count": 65,
     "metadata": {},
     "output_type": "execute_result"
    }
   ],
   "source": [
    "test_forest=RandomForestClassifier(n_estimators=800)\n",
    "test_forest.fit(dataframe,target)\n",
    "test_forest.feature_importances_\n"
   ]
  },
  {
   "cell_type": "code",
   "execution_count": 62,
   "metadata": {
    "collapsed": true
   },
   "outputs": [
    {
     "name": "stdout",
     "output_type": "stream",
     "text": [
      "0\n",
      "0.3690971787669737\n",
      "0.7070833963524603\n",
      "0.752814429177123\n",
      "0.7946316023196522\n",
      "0.8339242854711795\n",
      "0.8720389176072064\n",
      "0.906705916200812\n",
      "0.9385650924717808\n",
      "0.9450455164164686\n",
      "0.9514015334620457\n",
      "0.9552773731138949\n",
      "0.9589902580708168\n",
      "0.9623446142370835\n",
      "0.965406394357045\n",
      "0.9683334076318828\n",
      "0.9708589384712499\n",
      "0.9732572712880166\n",
      "0.9755716264360885\n",
      "0.9776603828888453\n",
      "0.9796989516082716\n",
      "0.9816171399951721\n",
      "0.9831871916701947\n",
      "0.9847051175732391\n",
      "0.9861561578127157\n",
      "0.9876047284141787\n",
      "0.9888271851856915\n",
      "0.9900274703331442\n",
      "0.9910814465506337\n",
      "0.9920328478180165\n",
      "0.9929380659888407\n",
      "0.9938122744923734\n",
      "0.9946612933756291\n",
      "0.9954804995039781\n",
      "0.9961472068302236\n",
      "0.996759814899578\n",
      "0.9972853623824824\n",
      "0.9977661211537417\n",
      "0.9981726069521255\n",
      "0.9984744604118319\n",
      "0.99877022407505\n",
      "0.9990375934643438\n",
      "0.9992869213283879\n",
      "0.9994315210720984\n",
      "0.999547725423595\n",
      "0.9996601566003105\n",
      "0.999757592185766\n",
      "0.9998465029955298\n",
      "0.9998963776924435\n",
      "0.9999304741425729\n",
      "0.999953793114312\n",
      "0.9999759793606513\n",
      "0.999988558410027\n",
      "0.9999945820398668\n",
      "0.9999984663906433\n",
      "1.0\n",
      "1.0\n",
      "1.0\n",
      "1.0\n",
      "1.0\n",
      "1.0\n",
      "1.0\n",
      "1.0\n",
      "1.0\n",
      "1.0\n",
      "1.0\n",
      "1.0\n",
      "1.0\n"
     ]
    }
   ],
   "source": [
    "test_pca = PCA()\n",
    "test_pca.fit(dataframe)\n",
    "nvar = test_pca.explained_variance_ratio_\n",
    "nvar = list(nvar)\n",
    "nvar.sort(reverse=True)\n",
    "for i in range(len(nvar)):\n",
    "\tprint(sum(nvar[:i]))"
   ]
  },
  {
   "cell_type": "code",
   "execution_count": 9,
   "metadata": {},
   "outputs": [
    {
     "data": {
      "text/plain": [
       "array([0.02654106, 0.02588245, 0.0219986 , 0.02535259, 0.02612231,\n",
       "       0.02488342, 0.02321552, 0.02365311, 0.02293459, 0.02278337,\n",
       "       0.030181  , 0.02371625, 0.02316688, 0.02330431, 0.02728295,\n",
       "       0.02371311, 0.0257311 , 0.02478466, 0.02404756, 0.0257507 ,\n",
       "       0.02638194, 0.02417206, 0.03039853, 0.02580777, 0.0249635 ,\n",
       "       0.02968984, 0.02895328, 0.02849398, 0.02541554, 0.02888793,\n",
       "       0.02719266, 0.02595714, 0.02453058, 0.02525596, 0.02591482,\n",
       "       0.02763273, 0.02515396, 0.02509085, 0.02506141])"
      ]
     },
     "execution_count": 9,
     "metadata": {},
     "output_type": "execute_result"
    }
   ],
   "source": [
    "dataframe_s = dataframe.copy()\n",
    "for i in range(10,39):\n",
    "    dataframe_s.iloc[:,i]=dataframe_s.iloc[:,i]-dataframe_s.iloc[:,i+29]/(dataframe_s.iloc[:,i]*dataframe_s.iloc[:,i+29]+1)\n",
    "for i in range(10,39):\n",
    "    dataframe_s.drop(labels=i+29,axis=1,inplace=True)\n",
    "test_forest=RandomForestClassifier(n_estimators=800)\n",
    "test_forest.fit(dataframe_s,target)\n",
    "test_forest.feature_importances_"
   ]
  },
  {
   "cell_type": "code",
   "execution_count": 84,
   "metadata": {
    "collapsed": true
   },
   "outputs": [
    {
     "name": "stdout",
     "output_type": "stream",
     "text": [
      "0\n",
      "0.7140693947629076\n",
      "0.7957034349515277\n",
      "0.875343871251752\n",
      "0.9397518337778938\n",
      "0.9523520925405042\n",
      "0.9595728477925627\n",
      "0.9661220579973128\n",
      "0.9710087887186093\n",
      "0.9756502938352051\n",
      "0.9793961045957875\n",
      "0.9824525584694954\n",
      "0.9852627242443652\n",
      "0.9876431131495454\n",
      "0.9898009481403547\n",
      "0.9918442024887313\n",
      "0.9935321220569139\n",
      "0.9951767318613964\n",
      "0.9964821104935272\n",
      "0.9974710723443804\n",
      "0.9980591365638836\n",
      "0.9986013986986522\n",
      "0.9991235333907196\n",
      "0.999391406509323\n",
      "0.9996122450764741\n",
      "0.9998033442700474\n",
      "0.9998844187460639\n",
      "0.9999388112519347\n",
      "0.9999746626633701\n",
      "0.999988729292301\n",
      "0.9999946556863578\n",
      "0.9999984745385645\n",
      "0.9999999999999998\n",
      "0.9999999999999998\n",
      "0.9999999999999998\n",
      "0.9999999999999998\n",
      "0.9999999999999998\n",
      "0.9999999999999998\n",
      "0.9999999999999998\n"
     ]
    }
   ],
   "source": [
    "test_pca = PCA()\n",
    "test_pca.fit(dataframe_s)\n",
    "nvar = test_pca.explained_variance_ratio_\n",
    "nvar = list(nvar)\n",
    "nvar.sort(reverse=True)\n",
    "for i in range(len(nvar)):\n",
    "\tprint(sum(nvar[:i]))"
   ]
  },
  {
   "cell_type": "code",
   "execution_count": 11,
   "metadata": {},
   "outputs": [],
   "source": [
    "X_train,X_test,y_train,y_test=train_test_split(dataframe_s,target,test_size=0.25,stratify=target)"
   ]
  },
  {
   "cell_type": "code",
   "execution_count": 95,
   "metadata": {},
   "outputs": [
    {
     "name": "stdout",
     "output_type": "stream",
     "text": [
      "best score -  0.5591787439613527\n",
      "best params -  {'bootstrap': True, 'max_depth': 10, 'max_features': 'sqrt', 'min_samples_leaf': 4, 'min_samples_split': 10, 'n_estimators': 8}\n"
     ]
    },
    {
     "name": "stderr",
     "output_type": "stream",
     "text": [
      "c:\\users\\wojcz\\appdata\\local\\programs\\python\\python37-32\\lib\\site-packages\\sklearn\\model_selection\\_search.py:841: DeprecationWarning: The default of the `iid` parameter will change from True to False in version 0.22 and will be removed in 0.24. This will change numeric results when test-set sizes are unequal.\n",
      "  DeprecationWarning)\n"
     ]
    }
   ],
   "source": [
    "paramgrid={'bootstrap': [True, False],\n",
    " 'max_depth': [10, 20, 30, 40, 50, 60, 70, 80, 90, 100, None],\n",
    " 'max_features': ['auto', 'sqrt'],\n",
    " 'min_samples_leaf': [1, 2, 4],\n",
    " 'min_samples_split': [2, 5, 10],\n",
    " 'n_estimators': [8,10,20,30,40,50,80,100,150,200,300,400]}\n",
    "grid = GridSearchCV(RandomForestClassifier(),param_grid=paramgrid,cv=10,n_jobs=-2)\n",
    "grid.fit(X_train,y_train)\n",
    "print(\"best score - \",grid.best_score_)\n",
    "print(\"best params - \",grid.best_params_)\n"
   ]
  },
  {
   "cell_type": "code",
   "execution_count": 98,
   "metadata": {},
   "outputs": [
    {
     "name": "stderr",
     "output_type": "stream",
     "text": [
      "c:\\users\\wojcz\\appdata\\local\\programs\\python\\python37-32\\lib\\site-packages\\sklearn\\model_selection\\_search.py:841: DeprecationWarning: The default of the `iid` parameter will change from True to False in version 0.22 and will be removed in 0.24. This will change numeric results when test-set sizes are unequal.\n",
      "  DeprecationWarning)\n"
     ]
    },
    {
     "name": "stdout",
     "output_type": "stream",
     "text": [
      "best score -  0.5748792270531401\n",
      "best params -  {'bootstrap': False, 'max_depth': 80, 'max_features': 'sqrt', 'min_samples_leaf': 4, 'min_samples_split': 5, 'n_estimators': 100}\n"
     ]
    }
   ],
   "source": [
    "pca = PCA(n_components=0.95)\n",
    "X_train_pca = pca.fit_transform(X_train)\n",
    "X_test_pca = pca.transform(X_test)\n",
    "grid = GridSearchCV(RandomForestClassifier(),param_grid=paramgrid,cv=10,)\n",
    "grid.fit(X_train_pca,y_train)\n",
    "print(\"best score - \",grid.best_score_)\n",
    "print(\"best params - \",grid.best_params_)\n",
    "\n"
   ]
  },
  {
   "cell_type": "code",
   "execution_count": 12,
   "metadata": {},
   "outputs": [
    {
     "name": "stdout",
     "output_type": "stream",
     "text": [
      "0\n",
      "66.26962063377842\n",
      "76.45754631257881\n",
      "85.66328005010232\n",
      "93.24149350852896\n",
      "100.37024435965698\n",
      "102.3797051743813\n",
      "103.86313956219145\n",
      "105.0273671791926\n",
      "106.01838067904777\n",
      "106.94063575805077\n",
      "107.80996095093124\n",
      "108.51180887131305\n",
      "109.18369341507446\n",
      "109.74186432058096\n"
     ]
    },
    {
     "data": {
      "text/plain": [
       "array([0.06723445, 0.06337882, 0.06654204, 0.06055826, 0.06790762,\n",
       "       0.06494705, 0.06692327, 0.0744116 , 0.0675318 , 0.06792723,\n",
       "       0.06346213, 0.06833673, 0.06543559, 0.06261011, 0.07279329])"
      ]
     },
     "execution_count": 12,
     "metadata": {},
     "output_type": "execute_result"
    }
   ],
   "source": [
    "kpca = KernelPCA(kernel=\"rbf\",n_components=15)\n",
    "X_train_kpca = kpca.fit_transform(X_train)\n",
    "nvar2 = kpca.lambdas_\n",
    "nvar2 = list(nvar2)\n",
    "nvar2.sort(reverse=True)\n",
    "for i in range(len(nvar2)):\n",
    "\tprint(sum(nvar2[:i]))\n",
    "test_forest=RandomForestClassifier(n_estimators=800)\n",
    "test_forest.fit(X_train_kpca,y_train)\n",
    "test_forest.feature_importances_\n"
   ]
  },
  {
   "cell_type": "code",
   "execution_count": 10,
   "metadata": {
    "collapsed": true
   },
   "outputs": [
    {
     "name": "stdout",
     "output_type": "stream",
     "text": [
      "0\n",
      "21.591565657168722\n",
      "24.02862988358836\n",
      "26.358755445773557\n",
      "28.238986517714466\n",
      "28.57897914365716\n",
      "28.786951430838435\n",
      "28.971235353927995\n",
      "29.12823753422229\n",
      "29.27349526533961\n",
      "29.40511954325767\n",
      "29.503181883617444\n",
      "29.585393132601446\n",
      "29.661178713936405\n",
      "29.728308893400254\n"
     ]
    },
    {
     "data": {
      "text/plain": [
       "array([0.07332567, 0.06382431, 0.06860716, 0.06939667, 0.06264011,\n",
       "       0.06635395, 0.0633753 , 0.06569726, 0.07668328, 0.06763421,\n",
       "       0.06704272, 0.06590557, 0.06464628, 0.06203432, 0.06283318])"
      ]
     },
     "execution_count": 10,
     "metadata": {},
     "output_type": "execute_result"
    }
   ],
   "source": [
    "clf = Pipeline([(\"kpca\",KernelPCA(n_components=15)),\n",
    "               (\"las\",RandomForestClassifier())])\n",
    "paramgrid_kpca = [{\"kpca__gamma\": np.linspace(0.03,0.05,10),\n",
    "                  \"kpca__kernel\": [\"sigmoid\",\"rbf\"],\n",
    "                  'las__bootstrap': [True, False],\n",
    "                  'las__max_depth': [10, 20, 30, 40, 50, 60, 70, 80, 90, 100, 200, None],\n",
    "                  'las__max_features': ['auto', 'sqrt'],\n",
    "                  'las__min_samples_leaf': [1, 2, 4],\n",
    "                  'las__min_samples_split': [2, 5, 10],\n",
    "                  'las__n_estimators': [8,10,20,30,40,50,80,100,150,200,300,400]}]\n",
    "grid_kpca = GridSearchCV(clf,param_grid=paramgrid_kpca,cv=10,n_jobs=1)\n",
    "grid_kpca.fit(X_train,y_train)\n",
    "print(\"best score - \",grid_kpca.best_score_)\n",
    "print(\"best params - \",grid_kpca.best_params_)\n"
   ]
  },
  {
   "cell_type": "code",
   "execution_count": 19,
   "metadata": {},
   "outputs": [
    {
     "data": {
      "text/plain": [
       "0.4915458937198068"
      ]
     },
     "execution_count": 19,
     "metadata": {},
     "output_type": "execute_result"
    }
   ],
   "source": [
    "from sklearn.manifold import LocallyLinearEmbedding\n",
    "std_scaler = StandardScaler()\n",
    "X_train_std = std_scaler.fit_transform(X_train)\n",
    "lle = LocallyLinearEmbedding(n_components=15)\n",
    "X_train_std_lle = lle.fit_transform(X_train_std,y_train)\n",
    "test_forest=RandomForestClassifier(n_estimators=800)\n",
    "test_forest.fit(X_train_std_lle,y_train)\n",
    "accuracy_score(y_train,cross_val_predict(test_forest,X_train_std_lle,y_train,cv=10))"
   ]
  },
  {
   "cell_type": "code",
   "execution_count": null,
   "metadata": {},
   "outputs": [],
   "source": []
  },
  {
   "cell_type": "code",
   "execution_count": 13,
   "metadata": {},
   "outputs": [
    {
     "name": "stdout",
     "output_type": "stream",
     "text": [
      "best score -  0.5929951690821256\n",
      "best params -  {'svm__C': 1, 'svm__gamma': 0.1, 'svm__kernel': 'rbf'}\n"
     ]
    },
    {
     "name": "stderr",
     "output_type": "stream",
     "text": [
      "c:\\users\\wojcz\\appdata\\local\\programs\\python\\python37-32\\lib\\site-packages\\sklearn\\model_selection\\_search.py:841: DeprecationWarning: The default of the `iid` parameter will change from True to False in version 0.22 and will be removed in 0.24. This will change numeric results when test-set sizes are unequal.\n",
      "  DeprecationWarning)\n"
     ]
    }
   ],
   "source": [
    "clf_svc = Pipeline([(\"kpca\",KernelPCA(n_components=15,kernel=\"rbf\")),\n",
    "                   (\"sc\",StandardScaler()),\n",
    "                   (\"svm\",SVC(max_iter=2000))])\n",
    "paramgrid_svm = [{\n",
    "                  \"svm__kernel\":[\"rbf\"],\n",
    "                  \"svm__C\":[0.00001,0.0001,0.001,0.01,0.1,1,10,100,200,300,400],\n",
    "                  \"svm__gamma\":[0.00001,0.0001,0.001,0.01,0.1,1,10]},\n",
    "                 {\n",
    "                  \"svm__kernel\":[\"poly\"],\n",
    "                  \"svm__gamma\":[0.00001,0.0001,0.001,0.01,0.1,1,10],\n",
    "                  \"svm__C\":[0.00001,0.0001,0.001,0.01,0.1,1,10,100],\n",
    "                  \"svm__degree\":[2,3]\n",
    "                 }]\n",
    "\n",
    "grid_svm = GridSearchCV(clf_svc,param_grid=paramgrid_svm,cv=10,n_jobs=-2)\n",
    "grid_svm.fit(X_train,y_train)\n",
    "print(\"best score - \",grid_svm.best_score_)\n",
    "print(\"best params - \",grid_svm.best_params_)                 \n",
    "                 "
   ]
  }
 ],
 "metadata": {
  "kernelspec": {
   "display_name": "Python 3",
   "language": "python",
   "name": "python3"
  },
  "language_info": {
   "codemirror_mode": {
    "name": "ipython",
    "version": 3
   },
   "file_extension": ".py",
   "mimetype": "text/x-python",
   "name": "python",
   "nbconvert_exporter": "python",
   "pygments_lexer": "ipython3",
   "version": "3.7.2"
  }
 },
 "nbformat": 4,
 "nbformat_minor": 2
}
